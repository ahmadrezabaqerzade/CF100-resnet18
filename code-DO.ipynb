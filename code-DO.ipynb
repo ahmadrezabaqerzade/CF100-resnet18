{
  "cells": [
    {
      "cell_type": "code",
      "execution_count": null,
      "metadata": {
        "id": "rVYSNPlOc6fW"
      },
      "outputs": [],
      "source": [
        "import torch as tc\n",
        "from torch import nn, optim\n",
        "from torch.utils.data import DataLoader, Dataset\n",
        "\n",
        "import torchvision as tv\n",
        "from torchvision.transforms import transforms as T\n",
        "from torchvision.models import resnet18\n",
        "from torchvision.datasets import CIFAR100\n",
        "\n",
        "from torchmetrics import Accuracy\n",
        "\n",
        "import matplotlib.pyplot as plt\n",
        "\n",
        "import os\n",
        "from tqdm import tqdm"
      ]
    },
    {
      "cell_type": "code",
      "execution_count": null,
      "metadata": {
        "id": "D988hNyuc6fb"
      },
      "outputs": [],
      "source": [
        "device = 'cuda' if tc.cuda.is_available() else 'cpu'"
      ]
    },
    {
      "cell_type": "code",
      "execution_count": null,
      "metadata": {
        "id": "dIeKD3BJc6fb"
      },
      "outputs": [],
      "source": [
        "train_transforms = T.Compose([T.RandomCrop(32, 4),\n",
        "                              T.RandomHorizontalFlip(),\n",
        "                              T.ToTensor(),\n",
        "                              T.Normalize(mean = (0.4194, 0.4822, 0.4465), std = (0.2023, 0.1994, 0.2010))])\n",
        "test_transforms = T.Compose([T.ToTensor(),\n",
        "                             T.Normalize(mean = (0.4914, 0.4822, 0.4465), std = (0.2023, 0.1994, 0.2010))])"
      ]
    },
    {
      "cell_type": "code",
      "execution_count": null,
      "metadata": {
        "colab": {
          "base_uri": "https://localhost:8080/"
        },
        "id": "DLALvJqxc6fc",
        "outputId": "55a51398-4b0a-4782-f6fe-3e6b0ca9e570"
      },
      "outputs": [
        {
          "output_type": "stream",
          "name": "stdout",
          "text": [
            "Files already downloaded and verified\n",
            "Files already downloaded and verified\n"
          ]
        }
      ],
      "source": [
        "train_dataset = CIFAR100(root = '/home/ahmadrezabaqerzadeh/datasets/', download = True, train = True, transform = train_transforms)\n",
        "test_dataset  = CIFAR100(root = '/home/ahmadrezabaqerzadeh/datasets/', download = True, train = False, transform = test_transforms)"
      ]
    },
    {
      "cell_type": "code",
      "execution_count": null,
      "metadata": {
        "id": "rflNudllc6fc"
      },
      "outputs": [],
      "source": [
        "train_loader = DataLoader(train_dataset, batch_size = 64, shuffle = True)\n",
        "test_loader  = DataLoader(test_dataset, batch_size = 128, shuffle = False)"
      ]
    },
    {
      "cell_type": "code",
      "execution_count": null,
      "metadata": {
        "id": "KAvDEMRIc6fc"
      },
      "outputs": [],
      "source": [
        "#Model"
      ]
    },
    {
      "cell_type": "code",
      "execution_count": null,
      "metadata": {
        "id": "F1CNbvSBc6fd"
      },
      "outputs": [],
      "source": [
        "net    = resnet18()\n",
        "net.fc = nn.Sequential(nn.Dropout(0.5), nn.Linear(512, 100))\n",
        "model  = net.to(device)"
      ]
    },
    {
      "cell_type": "code",
      "execution_count": null,
      "metadata": {
        "id": "qfUN5nWzc6fd"
      },
      "outputs": [],
      "source": [
        "def num_parameters(model):\n",
        "    n = sum([p.numel() for p in model.parameters() if p.requires_grad])/1e6\n",
        "    return print(str(n) + 'M')"
      ]
    },
    {
      "cell_type": "code",
      "execution_count": null,
      "metadata": {
        "colab": {
          "base_uri": "https://localhost:8080/"
        },
        "id": "JSXvzbT-c6fd",
        "outputId": "f4b0b590-61e2-411a-e1c3-9ef7f2bc6a0a"
      },
      "outputs": [
        {
          "output_type": "stream",
          "name": "stdout",
          "text": [
            "11.227812M\n"
          ]
        }
      ],
      "source": [
        "num_parameters(model)"
      ]
    },
    {
      "cell_type": "code",
      "execution_count": null,
      "metadata": {
        "colab": {
          "base_uri": "https://localhost:8080/"
        },
        "id": "8Wbvnk5cc6fe",
        "outputId": "8911c27a-19ad-4919-d713-2a06082ed136"
      },
      "outputs": [
        {
          "output_type": "execute_result",
          "data": {
            "text/plain": [
              "ResNet(\n",
              "  (conv1): Conv2d(3, 64, kernel_size=(7, 7), stride=(2, 2), padding=(3, 3), bias=False)\n",
              "  (bn1): BatchNorm2d(64, eps=1e-05, momentum=0.1, affine=True, track_running_stats=True)\n",
              "  (relu): ReLU(inplace=True)\n",
              "  (maxpool): MaxPool2d(kernel_size=3, stride=2, padding=1, dilation=1, ceil_mode=False)\n",
              "  (layer1): Sequential(\n",
              "    (0): BasicBlock(\n",
              "      (conv1): Conv2d(64, 64, kernel_size=(3, 3), stride=(1, 1), padding=(1, 1), bias=False)\n",
              "      (bn1): BatchNorm2d(64, eps=1e-05, momentum=0.1, affine=True, track_running_stats=True)\n",
              "      (relu): ReLU(inplace=True)\n",
              "      (conv2): Conv2d(64, 64, kernel_size=(3, 3), stride=(1, 1), padding=(1, 1), bias=False)\n",
              "      (bn2): BatchNorm2d(64, eps=1e-05, momentum=0.1, affine=True, track_running_stats=True)\n",
              "    )\n",
              "    (1): BasicBlock(\n",
              "      (conv1): Conv2d(64, 64, kernel_size=(3, 3), stride=(1, 1), padding=(1, 1), bias=False)\n",
              "      (bn1): BatchNorm2d(64, eps=1e-05, momentum=0.1, affine=True, track_running_stats=True)\n",
              "      (relu): ReLU(inplace=True)\n",
              "      (conv2): Conv2d(64, 64, kernel_size=(3, 3), stride=(1, 1), padding=(1, 1), bias=False)\n",
              "      (bn2): BatchNorm2d(64, eps=1e-05, momentum=0.1, affine=True, track_running_stats=True)\n",
              "    )\n",
              "  )\n",
              "  (layer2): Sequential(\n",
              "    (0): BasicBlock(\n",
              "      (conv1): Conv2d(64, 128, kernel_size=(3, 3), stride=(2, 2), padding=(1, 1), bias=False)\n",
              "      (bn1): BatchNorm2d(128, eps=1e-05, momentum=0.1, affine=True, track_running_stats=True)\n",
              "      (relu): ReLU(inplace=True)\n",
              "      (conv2): Conv2d(128, 128, kernel_size=(3, 3), stride=(1, 1), padding=(1, 1), bias=False)\n",
              "      (bn2): BatchNorm2d(128, eps=1e-05, momentum=0.1, affine=True, track_running_stats=True)\n",
              "      (downsample): Sequential(\n",
              "        (0): Conv2d(64, 128, kernel_size=(1, 1), stride=(2, 2), bias=False)\n",
              "        (1): BatchNorm2d(128, eps=1e-05, momentum=0.1, affine=True, track_running_stats=True)\n",
              "      )\n",
              "    )\n",
              "    (1): BasicBlock(\n",
              "      (conv1): Conv2d(128, 128, kernel_size=(3, 3), stride=(1, 1), padding=(1, 1), bias=False)\n",
              "      (bn1): BatchNorm2d(128, eps=1e-05, momentum=0.1, affine=True, track_running_stats=True)\n",
              "      (relu): ReLU(inplace=True)\n",
              "      (conv2): Conv2d(128, 128, kernel_size=(3, 3), stride=(1, 1), padding=(1, 1), bias=False)\n",
              "      (bn2): BatchNorm2d(128, eps=1e-05, momentum=0.1, affine=True, track_running_stats=True)\n",
              "    )\n",
              "  )\n",
              "  (layer3): Sequential(\n",
              "    (0): BasicBlock(\n",
              "      (conv1): Conv2d(128, 256, kernel_size=(3, 3), stride=(2, 2), padding=(1, 1), bias=False)\n",
              "      (bn1): BatchNorm2d(256, eps=1e-05, momentum=0.1, affine=True, track_running_stats=True)\n",
              "      (relu): ReLU(inplace=True)\n",
              "      (conv2): Conv2d(256, 256, kernel_size=(3, 3), stride=(1, 1), padding=(1, 1), bias=False)\n",
              "      (bn2): BatchNorm2d(256, eps=1e-05, momentum=0.1, affine=True, track_running_stats=True)\n",
              "      (downsample): Sequential(\n",
              "        (0): Conv2d(128, 256, kernel_size=(1, 1), stride=(2, 2), bias=False)\n",
              "        (1): BatchNorm2d(256, eps=1e-05, momentum=0.1, affine=True, track_running_stats=True)\n",
              "      )\n",
              "    )\n",
              "    (1): BasicBlock(\n",
              "      (conv1): Conv2d(256, 256, kernel_size=(3, 3), stride=(1, 1), padding=(1, 1), bias=False)\n",
              "      (bn1): BatchNorm2d(256, eps=1e-05, momentum=0.1, affine=True, track_running_stats=True)\n",
              "      (relu): ReLU(inplace=True)\n",
              "      (conv2): Conv2d(256, 256, kernel_size=(3, 3), stride=(1, 1), padding=(1, 1), bias=False)\n",
              "      (bn2): BatchNorm2d(256, eps=1e-05, momentum=0.1, affine=True, track_running_stats=True)\n",
              "    )\n",
              "  )\n",
              "  (layer4): Sequential(\n",
              "    (0): BasicBlock(\n",
              "      (conv1): Conv2d(256, 512, kernel_size=(3, 3), stride=(2, 2), padding=(1, 1), bias=False)\n",
              "      (bn1): BatchNorm2d(512, eps=1e-05, momentum=0.1, affine=True, track_running_stats=True)\n",
              "      (relu): ReLU(inplace=True)\n",
              "      (conv2): Conv2d(512, 512, kernel_size=(3, 3), stride=(1, 1), padding=(1, 1), bias=False)\n",
              "      (bn2): BatchNorm2d(512, eps=1e-05, momentum=0.1, affine=True, track_running_stats=True)\n",
              "      (downsample): Sequential(\n",
              "        (0): Conv2d(256, 512, kernel_size=(1, 1), stride=(2, 2), bias=False)\n",
              "        (1): BatchNorm2d(512, eps=1e-05, momentum=0.1, affine=True, track_running_stats=True)\n",
              "      )\n",
              "    )\n",
              "    (1): BasicBlock(\n",
              "      (conv1): Conv2d(512, 512, kernel_size=(3, 3), stride=(1, 1), padding=(1, 1), bias=False)\n",
              "      (bn1): BatchNorm2d(512, eps=1e-05, momentum=0.1, affine=True, track_running_stats=True)\n",
              "      (relu): ReLU(inplace=True)\n",
              "      (conv2): Conv2d(512, 512, kernel_size=(3, 3), stride=(1, 1), padding=(1, 1), bias=False)\n",
              "      (bn2): BatchNorm2d(512, eps=1e-05, momentum=0.1, affine=True, track_running_stats=True)\n",
              "    )\n",
              "  )\n",
              "  (avgpool): AdaptiveAvgPool2d(output_size=(1, 1))\n",
              "  (fc): Sequential(\n",
              "    (0): Dropout(p=0.5, inplace=False)\n",
              "    (1): Linear(in_features=512, out_features=100, bias=True)\n",
              "  )\n",
              ")"
            ]
          },
          "metadata": {},
          "execution_count": 17
        }
      ],
      "source": [
        "model"
      ]
    },
    {
      "cell_type": "code",
      "execution_count": null,
      "metadata": {
        "id": "a16OL2tIc6fe"
      },
      "outputs": [],
      "source": [
        "#loss function and optimizer"
      ]
    },
    {
      "cell_type": "code",
      "execution_count": null,
      "metadata": {
        "id": "Iogti7Xhc6fe"
      },
      "outputs": [],
      "source": [
        "loss_func = nn.CrossEntropyLoss()\n",
        "optimizer = optim.SGD(model.parameters(), lr = 0.1, momentum = 0.9)#, weight_decay = 5e-4)\n",
        "\n",
        "#sheduler  = optim.lr_scheduler.CosineAnnealingLR(optimizer, T_max = 200)"
      ]
    },
    {
      "cell_type": "code",
      "execution_count": null,
      "metadata": {
        "id": "Zett11thc6fe"
      },
      "outputs": [],
      "source": [
        "#test on 1 batch"
      ]
    },
    {
      "cell_type": "code",
      "execution_count": null,
      "metadata": {
        "colab": {
          "base_uri": "https://localhost:8080/"
        },
        "id": "7CLtIU72c6ff",
        "outputId": "3d2ab385-d24e-4bd8-fbf6-691a897a1cdf"
      },
      "outputs": [
        {
          "output_type": "execute_result",
          "data": {
            "text/plain": [
              "tensor(5.3334, device='cuda:0', grad_fn=<NllLossBackward0>)"
            ]
          },
          "metadata": {},
          "execution_count": 21
        }
      ],
      "source": [
        "x, y = next(iter(train_loader))\n",
        "yp   = model(x.to(device))\n",
        "loss_func(yp, y.to(device))"
      ]
    },
    {
      "cell_type": "code",
      "execution_count": null,
      "metadata": {
        "id": "HSOc5PQAc6ff"
      },
      "outputs": [],
      "source": [
        "base_lr = 1e-3"
      ]
    },
    {
      "cell_type": "code",
      "execution_count": null,
      "metadata": {
        "id": "h7v_hZ1ac6ff"
      },
      "outputs": [],
      "source": [
        "params = [\n",
        "    {'params':model.conv1.parameters(), 'lr': base_lr/10},\n",
        "    {'params':model.bn1.parameters()  , 'lr': base_lr/10},\n",
        "    {'params':model.layer1.parameters(), 'lr': base_lr/8},\n",
        "    {'params':model.layer2.parameters(), 'lr': base_lr/6},\n",
        "    {'params':model.layer3.parameters(), 'lr': base_lr/4},\n",
        "    {'params':model.layer4.parameters(), 'lr': base_lr/2},\n",
        "    {'params':model.fc.parameters()},\n",
        "]\n",
        "params1 = [\n",
        "    {'params':model.conv1.parameters(), 'lr': base_lr/10}\n",
        "]\n",
        "\n",
        "optimizer = optim.Adam(params, lr = base_lr)"
      ]
    },
    {
      "cell_type": "code",
      "execution_count": null,
      "metadata": {
        "id": "66O7Y1BWc6ff"
      },
      "outputs": [],
      "source": [
        "class AverageMeter(object):\n",
        "    \"\"\"Computes and stores the average and current value\"\"\"\n",
        "    def __init__(self):\n",
        "        self.reset()\n",
        "\n",
        "    def reset(self):\n",
        "        self.val = 0\n",
        "        self.avg = 0\n",
        "        self.sum = 0\n",
        "        self.count = 0\n",
        "\n",
        "    def update(self, val, n=1):\n",
        "        self.val = val\n",
        "        self.sum += val * n\n",
        "        self.count += n\n",
        "        self.avg = self.sum / self.count"
      ]
    },
    {
      "cell_type": "code",
      "execution_count": null,
      "metadata": {
        "id": "2-aqgziuc6ff"
      },
      "outputs": [],
      "source": [
        "def train_one_epoch(model, train_loader, optimizer, loss_func, epoch):\n",
        "\n",
        "    model.train()\n",
        "\n",
        "    loss      = AverageMeter()\n",
        "    accuracy  = Accuracy(task = 'multiclass', num_classes = 100).to(device)\n",
        "\n",
        "    with tqdm(train_loader, unit = 'batch') as tepoch:\n",
        "\n",
        "        for x,y in tepoch:\n",
        "\n",
        "            if epoch is not None:\n",
        "\n",
        "                tepoch.set_description(f'epoch{epoch}')\n",
        "\n",
        "            x = x.to(device)\n",
        "            y = y.to(device)\n",
        "\n",
        "            ypred = model(x)\n",
        "            error = loss_func(ypred,  y)\n",
        "            error.backward()\n",
        "            optimizer.step()\n",
        "            optimizer.zero_grad()\n",
        "            loss.update(error)\n",
        "            accuracy(ypred, y)\n",
        "\n",
        "            tepoch.set_postfix(loss = loss.avg.item(), accuracy = accuracy.compute().item() * 100)\n",
        "\n",
        "    return model, loss.avg.item(), accuracy.compute().item()"
      ]
    },
    {
      "cell_type": "code",
      "execution_count": null,
      "metadata": {
        "id": "4JJb7CEzc6fg"
      },
      "outputs": [],
      "source": [
        "def validation(model, valid_loader, loss_func):\n",
        "\n",
        "    model.eval()\n",
        "\n",
        "    loss = AverageMeter()\n",
        "    accuracy = Accuracy(task = 'multiclass', num_classes = 100).to(device)\n",
        "\n",
        "    for x, y in valid_loader:\n",
        "\n",
        "        x = x.to(device)\n",
        "        y = y.to(device)\n",
        "\n",
        "        ypred = model(x)\n",
        "        error = loss_func(ypred, y)\n",
        "\n",
        "        loss.update(error)\n",
        "        accuracy(ypred.squeeze(), y)\n",
        "\n",
        "    print(f'valid_loss = {loss.avg : .4}, accuracy = {accuracy.compute().item() * 100 : .4}')\n",
        "\n",
        "    return loss.avg.item(), accuracy.compute().item() * 100\n"
      ]
    },
    {
      "cell_type": "code",
      "execution_count": null,
      "metadata": {
        "id": "N2PcvuiGc6fg"
      },
      "outputs": [],
      "source": [
        "#from torch.utils.tensorboard import summaryWriter"
      ]
    },
    {
      "cell_type": "code",
      "execution_count": null,
      "metadata": {
        "id": "rVNTzkfZc6fg"
      },
      "outputs": [],
      "source": [
        "#%load_ext tensorboard\n",
        "#%tensorboard --logdir runs"
      ]
    },
    {
      "cell_type": "code",
      "execution_count": null,
      "metadata": {
        "id": "gvHO5xUAc6fg"
      },
      "outputs": [],
      "source": [
        "import logging"
      ]
    },
    {
      "cell_type": "code",
      "execution_count": null,
      "metadata": {
        "id": "pF9AJEPFc6fh"
      },
      "outputs": [],
      "source": [
        "logging.getLogger().setLevel(logging.INFO)\n",
        "logger = logging.getLogger('CIFAR100-resnet18')"
      ]
    },
    {
      "cell_type": "code",
      "execution_count": null,
      "metadata": {
        "colab": {
          "base_uri": "https://localhost:8080/"
        },
        "id": "dLPGMUY2c6fh",
        "outputId": "35fed4a6-3bf9-42b6-92c0-8d7fbc9cd732"
      },
      "outputs": [
        {
          "output_type": "stream",
          "name": "stderr",
          "text": [
            "INFO:CIFAR100-resnet18:This is an info message\n",
            "WARNING:root:This is an warning message\n",
            "ERROR:root:This is an error message\n",
            "CRITICAL:root:This is an critical message\n"
          ]
        }
      ],
      "source": [
        "logger.info('This is an info message')\n",
        "logging.warning('This is an warning message')\n",
        "logging.error('This is an error message')\n",
        "logging.critical('This is an critical message')"
      ]
    },
    {
      "cell_type": "code",
      "execution_count": null,
      "metadata": {
        "id": "UlKCcn4mc6fh"
      },
      "outputs": [],
      "source": [
        "loss_func = nn.CrossEntropyLoss()\n",
        "optimizer = optim.SGD(model.parameters(), lr = 0.001, momentum = 0.9, weight_decay = 5e-4)"
      ]
    },
    {
      "cell_type": "code",
      "execution_count": null,
      "metadata": {
        "id": "jT4_VdiHc6fh"
      },
      "outputs": [],
      "source": [
        "loss_train_hist, acc_train_hist = [], []\n",
        "loss_val_hist  , acc_val_hist   = [], []\n",
        "N = 20\n",
        "best_loss = tc.inf\n",
        "best_model = 0"
      ]
    },
    {
      "cell_type": "code",
      "execution_count": null,
      "metadata": {
        "colab": {
          "base_uri": "https://localhost:8080/"
        },
        "id": "aPxkngWNc6fh",
        "outputId": "3bac9173-4177-4532-e826-2e6ad1bf2037"
      },
      "outputs": [
        {
          "output_type": "stream",
          "name": "stderr",
          "text": [
            "epoch0: 100%|██████████| 782/782 [00:45<00:00, 17.29batch/s, accuracy=70.9, loss=0.998]\n"
          ]
        },
        {
          "output_type": "stream",
          "name": "stdout",
          "text": [
            "valid_loss =  1.716, accuracy =  56.16\n"
          ]
        },
        {
          "output_type": "stream",
          "name": "stderr",
          "text": [
            "epoch1: 100%|██████████| 782/782 [00:46<00:00, 16.91batch/s, accuracy=72.6, loss=0.944]\n"
          ]
        },
        {
          "output_type": "stream",
          "name": "stdout",
          "text": [
            "valid_loss =  1.73, accuracy =  56.0\n"
          ]
        },
        {
          "output_type": "stream",
          "name": "stderr",
          "text": [
            "epoch2: 100%|██████████| 782/782 [00:46<00:00, 16.95batch/s, accuracy=73.7, loss=0.908]\n"
          ]
        },
        {
          "output_type": "stream",
          "name": "stdout",
          "text": [
            "valid_loss =  1.747, accuracy =  56.18\n"
          ]
        },
        {
          "output_type": "stream",
          "name": "stderr",
          "text": [
            "epoch3: 100%|██████████| 782/782 [00:45<00:00, 17.21batch/s, accuracy=74.1, loss=0.885]\n"
          ]
        },
        {
          "output_type": "stream",
          "name": "stdout",
          "text": [
            "valid_loss =  1.8, accuracy =  55.39\n"
          ]
        },
        {
          "output_type": "stream",
          "name": "stderr",
          "text": [
            "epoch4: 100%|██████████| 782/782 [00:45<00:00, 17.17batch/s, accuracy=74.9, loss=0.855]\n"
          ]
        },
        {
          "output_type": "stream",
          "name": "stdout",
          "text": [
            "valid_loss =  1.78, accuracy =  55.81\n"
          ]
        },
        {
          "output_type": "stream",
          "name": "stderr",
          "text": [
            "epoch5: 100%|██████████| 782/782 [00:49<00:00, 15.76batch/s, accuracy=75.4, loss=0.844]\n"
          ]
        },
        {
          "output_type": "stream",
          "name": "stdout",
          "text": [
            "valid_loss =  1.785, accuracy =  56.04\n"
          ]
        },
        {
          "output_type": "stream",
          "name": "stderr",
          "text": [
            "epoch6: 100%|██████████| 782/782 [00:46<00:00, 16.83batch/s, accuracy=75.3, loss=0.831]\n"
          ]
        },
        {
          "output_type": "stream",
          "name": "stdout",
          "text": [
            "valid_loss =  1.814, accuracy =  55.69\n"
          ]
        },
        {
          "output_type": "stream",
          "name": "stderr",
          "text": [
            "epoch7: 100%|██████████| 782/782 [00:45<00:00, 17.11batch/s, accuracy=76.1, loss=0.814]\n"
          ]
        },
        {
          "output_type": "stream",
          "name": "stdout",
          "text": [
            "valid_loss =  1.772, accuracy =  56.44\n"
          ]
        },
        {
          "output_type": "stream",
          "name": "stderr",
          "text": [
            "epoch8: 100%|██████████| 782/782 [00:46<00:00, 16.85batch/s, accuracy=76.3, loss=0.807]\n"
          ]
        },
        {
          "output_type": "stream",
          "name": "stdout",
          "text": [
            "valid_loss =  1.809, accuracy =  55.94\n"
          ]
        },
        {
          "output_type": "stream",
          "name": "stderr",
          "text": [
            "epoch9: 100%|██████████| 782/782 [00:45<00:00, 17.13batch/s, accuracy=77, loss=0.781]\n"
          ]
        },
        {
          "output_type": "stream",
          "name": "stdout",
          "text": [
            "valid_loss =  1.816, accuracy =  56.28\n"
          ]
        },
        {
          "output_type": "stream",
          "name": "stderr",
          "text": [
            "epoch10: 100%|██████████| 782/782 [00:45<00:00, 17.31batch/s, accuracy=77.1, loss=0.776]\n"
          ]
        },
        {
          "output_type": "stream",
          "name": "stdout",
          "text": [
            "valid_loss =  1.828, accuracy =  56.01\n"
          ]
        },
        {
          "output_type": "stream",
          "name": "stderr",
          "text": [
            "epoch11: 100%|██████████| 782/782 [00:45<00:00, 17.02batch/s, accuracy=77.3, loss=0.769]\n"
          ]
        },
        {
          "output_type": "stream",
          "name": "stdout",
          "text": [
            "valid_loss =  1.833, accuracy =  56.14\n"
          ]
        },
        {
          "output_type": "stream",
          "name": "stderr",
          "text": [
            "epoch12: 100%|██████████| 782/782 [00:45<00:00, 17.19batch/s, accuracy=77.6, loss=0.756]\n"
          ]
        },
        {
          "output_type": "stream",
          "name": "stdout",
          "text": [
            "valid_loss =  1.852, accuracy =  55.66\n"
          ]
        },
        {
          "output_type": "stream",
          "name": "stderr",
          "text": [
            "epoch13: 100%|██████████| 782/782 [00:45<00:00, 17.07batch/s, accuracy=78, loss=0.74]\n"
          ]
        },
        {
          "output_type": "stream",
          "name": "stdout",
          "text": [
            "valid_loss =  1.84, accuracy =  56.23\n"
          ]
        },
        {
          "output_type": "stream",
          "name": "stderr",
          "text": [
            "epoch14: 100%|██████████| 782/782 [00:46<00:00, 16.70batch/s, accuracy=78.5, loss=0.73]\n"
          ]
        },
        {
          "output_type": "stream",
          "name": "stdout",
          "text": [
            "valid_loss =  1.877, accuracy =  55.77\n"
          ]
        },
        {
          "output_type": "stream",
          "name": "stderr",
          "text": [
            "epoch15: 100%|██████████| 782/782 [00:46<00:00, 16.90batch/s, accuracy=78.7, loss=0.717]\n"
          ]
        },
        {
          "output_type": "stream",
          "name": "stdout",
          "text": [
            "valid_loss =  1.842, accuracy =  56.12\n"
          ]
        },
        {
          "output_type": "stream",
          "name": "stderr",
          "text": [
            "epoch16: 100%|██████████| 782/782 [00:45<00:00, 17.00batch/s, accuracy=79.2, loss=0.701]\n"
          ]
        },
        {
          "output_type": "stream",
          "name": "stdout",
          "text": [
            "valid_loss =  1.882, accuracy =  56.28\n"
          ]
        },
        {
          "output_type": "stream",
          "name": "stderr",
          "text": [
            "epoch17: 100%|██████████| 782/782 [00:45<00:00, 17.03batch/s, accuracy=79.3, loss=0.693]\n"
          ]
        },
        {
          "output_type": "stream",
          "name": "stdout",
          "text": [
            "valid_loss =  1.899, accuracy =  55.67\n"
          ]
        },
        {
          "output_type": "stream",
          "name": "stderr",
          "text": [
            "epoch18: 100%|██████████| 782/782 [00:46<00:00, 16.81batch/s, accuracy=79.9, loss=0.679]\n"
          ]
        },
        {
          "output_type": "stream",
          "name": "stdout",
          "text": [
            "valid_loss =  1.896, accuracy =  55.97\n"
          ]
        },
        {
          "output_type": "stream",
          "name": "stderr",
          "text": [
            "epoch19: 100%|██████████| 782/782 [00:45<00:00, 17.01batch/s, accuracy=79.6, loss=0.68]\n"
          ]
        },
        {
          "output_type": "stream",
          "name": "stdout",
          "text": [
            "valid_loss =  1.909, accuracy =  55.52\n"
          ]
        }
      ],
      "source": [
        "for epoch in range(N):\n",
        "\n",
        "    model, train_loss, train_acc = train_one_epoch(model, train_loader, optimizer, loss_func, epoch)\n",
        "    val_loss, val_acc            = validation(model, test_loader, loss_func)\n",
        "\n",
        "    loss_train_hist.append(train_loss)\n",
        "    acc_train_hist.append(train_acc)\n",
        "\n",
        "    loss_val_hist.append(val_loss)\n",
        "    acc_val_hist.append(val_acc)\n",
        "\n",
        "    if val_loss<best_loss:\n",
        "        best_model = model\n",
        "        best_loss  = val_loss\n",
        "        print('model saved!')\n"
      ]
    },
    {
      "cell_type": "code",
      "execution_count": null,
      "metadata": {
        "colab": {
          "base_uri": "https://localhost:8080/",
          "height": 467
        },
        "id": "wp1WZqhtc6fi",
        "outputId": "27274468-d0be-4e57-abcb-17a401433576"
      },
      "outputs": [
        {
          "output_type": "display_data",
          "data": {
            "text/plain": [
              "<Figure size 640x480 with 1 Axes>"
            ],
            "image/png": "[encoded data removed]"
          },
          "metadata": {}
        },
        {
          "output_type": "execute_result",
          "data": {
            "text/plain": [
              "1.699484944343567"
            ]
          },
          "metadata": {},
          "execution_count": 47
        }
      ],
      "source": [
        "plt.plot(range(N * 4), loss_train_hist, label = 'train loss')\n",
        "plt.plot(range(N * 4), loss_val_hist, label =  'validation loss')\n",
        "plt.xlabel('Epoch')\n",
        "plt.ylabel('Loss')\n",
        "plt.show()\n",
        "min(loss_val_hist)"
      ]
    },
    {
      "cell_type": "code",
      "execution_count": null,
      "metadata": {
        "colab": {
          "base_uri": "https://localhost:8080/",
          "height": 449
        },
        "id": "y4k8xmjsc6fi",
        "outputId": "a906a920-de95-4ffd-909b-0ea25fd7cf16"
      },
      "outputs": [
        {
          "output_type": "display_data",
          "data": {
            "text/plain": [
              "<Figure size 640x480 with 1 Axes>"
            ],
            "image/png": "[encoded data removed]"
          },
          "metadata": {}
        }
      ],
      "source": [
        "plt.plot(range(N * 4), [100 * p for p in acc_train_hist], label = 'train loss')\n",
        "plt.plot(range(N * 4), acc_val_hist, label =  'validation loss')\n",
        "plt.xlabel('Epoch')\n",
        "plt.ylabel('Accuracy')\n",
        "plt.show()"
      ]
    },
    {
      "cell_type": "code",
      "source": [],
      "metadata": {
        "id": "OwPSi2IO23FT"
      },
      "execution_count": null,
      "outputs": []
    }
  ],
  "metadata": {
    "kernelspec": {
      "display_name": "Python 3",
      "name": "python3"
    },
    "language_info": {
      "codemirror_mode": {
        "name": "ipython",
        "version": 3
      },
      "file_extension": ".py",
      "mimetype": "text/x-python",
      "name": "python",
      "nbconvert_exporter": "python",
      "pygments_lexer": "ipython3",
      "version": "3.10.9 (main, Mar  1 2023, 18:23:06) [GCC 11.2.0]"
    },
    "orig_nbformat": 4,
    "vscode": {
      "interpreter": {
        "hash": "91a66feb288e5a3ba784db9ef5ea18e02a46e15100cc28412487b6abfb332ddd"
      }
    },
    "colab": {
      "provenance": [],
      "gpuType": "T4"
    },
    "accelerator": "GPU"
  },
  "nbformat": 4,
  "nbformat_minor": 0
}